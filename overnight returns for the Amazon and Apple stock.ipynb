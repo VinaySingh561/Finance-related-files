{
 "cells": [
  {
   "cell_type": "markdown",
   "id": "52730901",
   "metadata": {},
   "source": [
    "  Usually we think, Stock market movement majorly occurs during day but it is the other way around.So here we will analyse overnight returns for the amazon and apple stocks."
   ]
  },
  {
   "cell_type": "code",
   "execution_count": 19,
   "id": "3f393eaf",
   "metadata": {},
   "outputs": [],
   "source": [
    "## importing important libraries\n",
    "import numpy as np\n",
    "import matplotlib.pyplot as plt\n",
    "import pandas as pd\n",
    "import yfinance as yf ## for accessing stock data\n",
    "import datetime"
   ]
  },
  {
   "cell_type": "code",
   "execution_count": 20,
   "id": "b3950ab2",
   "metadata": {},
   "outputs": [],
   "source": [
    "## timing of investment\n",
    "start_date = datetime.date(2000,1, 11)\n",
    "end_date = datetime.datetime.today()\n"
   ]
  },
  {
   "cell_type": "markdown",
   "id": "9d4b9a8c",
   "metadata": {},
   "source": [
    "We access Apple and amazon data using yfinance library."
   ]
  },
  {
   "cell_type": "code",
   "execution_count": 21,
   "id": "8af0c54c",
   "metadata": {},
   "outputs": [
    {
     "name": "stdout",
     "output_type": "stream",
     "text": [
      "[*********************100%***********************]  1 of 1 completed\n",
      "[*********************100%***********************]  1 of 1 completed\n"
     ]
    }
   ],
   "source": [
    "amazon = yf.download('AMZN', start= start_date, end= end_date)\n",
    "apple = yf.download('AAPL', start= start_date, end= end_date)"
   ]
  },
  {
   "cell_type": "code",
   "execution_count": 22,
   "id": "487a1ba4",
   "metadata": {},
   "outputs": [
    {
     "data": {
      "text/html": [
       "<div>\n",
       "<style scoped>\n",
       "    .dataframe tbody tr th:only-of-type {\n",
       "        vertical-align: middle;\n",
       "    }\n",
       "\n",
       "    .dataframe tbody tr th {\n",
       "        vertical-align: top;\n",
       "    }\n",
       "\n",
       "    .dataframe thead th {\n",
       "        text-align: right;\n",
       "    }\n",
       "</style>\n",
       "<table border=\"1\" class=\"dataframe\">\n",
       "  <thead>\n",
       "    <tr style=\"text-align: right;\">\n",
       "      <th></th>\n",
       "      <th>Open</th>\n",
       "      <th>High</th>\n",
       "      <th>Low</th>\n",
       "      <th>Close</th>\n",
       "      <th>Adj Close</th>\n",
       "      <th>Volume</th>\n",
       "    </tr>\n",
       "    <tr>\n",
       "      <th>Date</th>\n",
       "      <th></th>\n",
       "      <th></th>\n",
       "      <th></th>\n",
       "      <th></th>\n",
       "      <th></th>\n",
       "      <th></th>\n",
       "    </tr>\n",
       "  </thead>\n",
       "  <tbody>\n",
       "    <tr>\n",
       "      <th>2000-01-10</th>\n",
       "      <td>72.5625</td>\n",
       "      <td>72.6250</td>\n",
       "      <td>65.5625</td>\n",
       "      <td>69.1875</td>\n",
       "      <td>69.1875</td>\n",
       "      <td>14757900</td>\n",
       "    </tr>\n",
       "    <tr>\n",
       "      <th>2000-01-11</th>\n",
       "      <td>66.8750</td>\n",
       "      <td>70.0000</td>\n",
       "      <td>65.0000</td>\n",
       "      <td>66.7500</td>\n",
       "      <td>66.7500</td>\n",
       "      <td>10532700</td>\n",
       "    </tr>\n",
       "    <tr>\n",
       "      <th>2000-01-12</th>\n",
       "      <td>67.8750</td>\n",
       "      <td>68.0000</td>\n",
       "      <td>63.0000</td>\n",
       "      <td>63.5625</td>\n",
       "      <td>63.5625</td>\n",
       "      <td>10804500</td>\n",
       "    </tr>\n",
       "    <tr>\n",
       "      <th>2000-01-13</th>\n",
       "      <td>64.9375</td>\n",
       "      <td>67.1875</td>\n",
       "      <td>63.1250</td>\n",
       "      <td>65.9375</td>\n",
       "      <td>65.9375</td>\n",
       "      <td>10448100</td>\n",
       "    </tr>\n",
       "    <tr>\n",
       "      <th>2000-01-14</th>\n",
       "      <td>66.7500</td>\n",
       "      <td>68.6250</td>\n",
       "      <td>64.0000</td>\n",
       "      <td>64.2500</td>\n",
       "      <td>64.2500</td>\n",
       "      <td>6853600</td>\n",
       "    </tr>\n",
       "  </tbody>\n",
       "</table>\n",
       "</div>"
      ],
      "text/plain": [
       "               Open     High      Low    Close  Adj Close    Volume\n",
       "Date                                                               \n",
       "2000-01-10  72.5625  72.6250  65.5625  69.1875    69.1875  14757900\n",
       "2000-01-11  66.8750  70.0000  65.0000  66.7500    66.7500  10532700\n",
       "2000-01-12  67.8750  68.0000  63.0000  63.5625    63.5625  10804500\n",
       "2000-01-13  64.9375  67.1875  63.1250  65.9375    65.9375  10448100\n",
       "2000-01-14  66.7500  68.6250  64.0000  64.2500    64.2500   6853600"
      ]
     },
     "execution_count": 22,
     "metadata": {},
     "output_type": "execute_result"
    }
   ],
   "source": [
    "## visualization of datasets\n",
    "amazon.head()\n",
    "#apple_data()  ##remove # to see apple  data"
   ]
  },
  {
   "cell_type": "markdown",
   "id": "5e5cfe0c",
   "metadata": {},
   "source": [
    "Now we will calculate calculate the normalized return which is equal to ratio of adjusted closing prices of two consecutive days."
   ]
  },
  {
   "cell_type": "code",
   "execution_count": 23,
   "id": "ce1e632e",
   "metadata": {},
   "outputs": [],
   "source": [
    "## the normalized return \n",
    "apple['norm_return'] = apple['Adj Close'] / apple.iloc[0]['Adj Close']\n",
    "amazon['norm_return'] = amazon['Adj Close'] / amazon.iloc[0]['Adj Close']"
   ]
  },
  {
   "cell_type": "code",
   "execution_count": 24,
   "id": "59434229",
   "metadata": {},
   "outputs": [
    {
     "data": {
      "text/plain": [
       "Date\n",
       "2000-01-10      1.000000\n",
       "2000-01-11      0.948849\n",
       "2000-01-12      0.891944\n",
       "2000-01-13      0.989769\n",
       "2000-01-14      1.027493\n",
       "                 ...    \n",
       "2022-01-05    233.762522\n",
       "2022-01-06    229.860245\n",
       "2022-01-07    230.087430\n",
       "2022-01-10    230.114164\n",
       "2022-01-11    233.976350\n",
       "Name: norm_return, Length: 5538, dtype: float64"
      ]
     },
     "execution_count": 24,
     "metadata": {},
     "output_type": "execute_result"
    }
   ],
   "source": [
    "## visualozing data\n",
    "apple.norm_return\n",
    "#amazon.norm_return   ##remove # to see amazon data"
   ]
  },
  {
   "cell_type": "markdown",
   "id": "e864e012",
   "metadata": {},
   "source": [
    "Here we will allocate 50% of investment in apple and amazon(diversifying our portfolio)"
   ]
  },
  {
   "cell_type": "code",
   "execution_count": 25,
   "id": "0402fbf8",
   "metadata": {},
   "outputs": [],
   "source": [
    "allocation = 0.5\n",
    "apple['allocation'] = apple['norm_return']* allocation\n",
    "amazon['allocation']= amazon['norm_return']*allocation"
   ]
  },
  {
   "cell_type": "code",
   "execution_count": 26,
   "id": "6fdb653c",
   "metadata": {},
   "outputs": [],
   "source": [
    "## Suppose we invest 25000$ each in both the stocks.\n",
    "Investment = 50000\n",
    "## our daily_sum will be allocated size * investment in each stock\n",
    "apple['daily_sum'] = apple['allocation']*(Investment)\n",
    "amazon['daily_sum'] = amazon['allocation']*(Investment)\n",
    "\n"
   ]
  },
  {
   "cell_type": "code",
   "execution_count": 27,
   "id": "925fd08a",
   "metadata": {},
   "outputs": [],
   "source": [
    "#cleaning the data\n",
    "amazon.drop(['High','Low','Close', 'Volume'],axis=1,inplace=True)\n",
    "apple.drop(['High','Low','Close', 'Volume'],axis=1,inplace=True)"
   ]
  },
  {
   "cell_type": "code",
   "execution_count": 28,
   "id": "12d25a9e",
   "metadata": {},
   "outputs": [
    {
     "data": {
      "text/html": [
       "<div>\n",
       "<style scoped>\n",
       "    .dataframe tbody tr th:only-of-type {\n",
       "        vertical-align: middle;\n",
       "    }\n",
       "\n",
       "    .dataframe tbody tr th {\n",
       "        vertical-align: top;\n",
       "    }\n",
       "\n",
       "    .dataframe thead th {\n",
       "        text-align: right;\n",
       "    }\n",
       "</style>\n",
       "<table border=\"1\" class=\"dataframe\">\n",
       "  <thead>\n",
       "    <tr style=\"text-align: right;\">\n",
       "      <th></th>\n",
       "      <th>Open</th>\n",
       "      <th>Adj Close</th>\n",
       "      <th>norm_return</th>\n",
       "      <th>allocation</th>\n",
       "      <th>daily_sum</th>\n",
       "    </tr>\n",
       "    <tr>\n",
       "      <th>Date</th>\n",
       "      <th></th>\n",
       "      <th></th>\n",
       "      <th></th>\n",
       "      <th></th>\n",
       "      <th></th>\n",
       "    </tr>\n",
       "  </thead>\n",
       "  <tbody>\n",
       "    <tr>\n",
       "      <th>2000-01-10</th>\n",
       "      <td>0.910714</td>\n",
       "      <td>0.748281</td>\n",
       "      <td>1.000000</td>\n",
       "      <td>0.500000</td>\n",
       "      <td>25000.000000</td>\n",
       "    </tr>\n",
       "    <tr>\n",
       "      <th>2000-01-11</th>\n",
       "      <td>0.856585</td>\n",
       "      <td>0.710005</td>\n",
       "      <td>0.948849</td>\n",
       "      <td>0.474425</td>\n",
       "      <td>23721.225263</td>\n",
       "    </tr>\n",
       "    <tr>\n",
       "      <th>2000-01-12</th>\n",
       "      <td>0.848214</td>\n",
       "      <td>0.667424</td>\n",
       "      <td>0.891944</td>\n",
       "      <td>0.445972</td>\n",
       "      <td>22298.598749</td>\n",
       "    </tr>\n",
       "    <tr>\n",
       "      <th>2000-01-13</th>\n",
       "      <td>0.843610</td>\n",
       "      <td>0.740625</td>\n",
       "      <td>0.989769</td>\n",
       "      <td>0.494885</td>\n",
       "      <td>24744.234299</td>\n",
       "    </tr>\n",
       "    <tr>\n",
       "      <th>2000-01-14</th>\n",
       "      <td>0.892857</td>\n",
       "      <td>0.768853</td>\n",
       "      <td>1.027493</td>\n",
       "      <td>0.513747</td>\n",
       "      <td>25687.330991</td>\n",
       "    </tr>\n",
       "  </tbody>\n",
       "</table>\n",
       "</div>"
      ],
      "text/plain": [
       "                Open  Adj Close  norm_return  allocation     daily_sum\n",
       "Date                                                                  \n",
       "2000-01-10  0.910714   0.748281     1.000000    0.500000  25000.000000\n",
       "2000-01-11  0.856585   0.710005     0.948849    0.474425  23721.225263\n",
       "2000-01-12  0.848214   0.667424     0.891944    0.445972  22298.598749\n",
       "2000-01-13  0.843610   0.740625     0.989769    0.494885  24744.234299\n",
       "2000-01-14  0.892857   0.768853     1.027493    0.513747  25687.330991"
      ]
     },
     "execution_count": 28,
     "metadata": {},
     "output_type": "execute_result"
    }
   ],
   "source": [
    "#visualizing the numerical data\n",
    "amazon.head()\n",
    "apple.head()   ##remove # to see apple data"
   ]
  },
  {
   "cell_type": "code",
   "execution_count": 29,
   "id": "be7c4f22",
   "metadata": {},
   "outputs": [
    {
     "data": {
      "image/png": "[encoded data removed]",
      "text/plain": [
       "<Figure size 720x576 with 1 Axes>"
      ]
     },
     "metadata": {},
     "output_type": "display_data"
    }
   ],
   "source": [
    "## now we will visualize plot data to see how our individual stocks performed.\n",
    "plt.style.use('seaborn')\n",
    "apple['daily_sum'].plot(figsize=(10,8), label = 'apple', color = 'r')\n",
    "amazon['daily_sum'].plot(figsize=(10,8), label = 'amazon')\n",
    "plt.legend()\n",
    "plt.ylabel('daily_sum($)')\n",
    "plt.show()\n"
   ]
  },
  {
   "cell_type": "code",
   "execution_count": 30,
   "id": "a256abe2",
   "metadata": {},
   "outputs": [
    {
     "data": {
      "text/html": [
       "<div>\n",
       "<style scoped>\n",
       "    .dataframe tbody tr th:only-of-type {\n",
       "        vertical-align: middle;\n",
       "    }\n",
       "\n",
       "    .dataframe tbody tr th {\n",
       "        vertical-align: top;\n",
       "    }\n",
       "\n",
       "    .dataframe thead th {\n",
       "        text-align: right;\n",
       "    }\n",
       "</style>\n",
       "<table border=\"1\" class=\"dataframe\">\n",
       "  <thead>\n",
       "    <tr style=\"text-align: right;\">\n",
       "      <th></th>\n",
       "      <th>amazon_daily_sum</th>\n",
       "      <th>apple_daily_sum</th>\n",
       "      <th>total_sum</th>\n",
       "    </tr>\n",
       "    <tr>\n",
       "      <th>Date</th>\n",
       "      <th></th>\n",
       "      <th></th>\n",
       "      <th></th>\n",
       "    </tr>\n",
       "  </thead>\n",
       "  <tbody>\n",
       "    <tr>\n",
       "      <th>2022-01-05</th>\n",
       "      <td>1.187765e+06</td>\n",
       "      <td>5.844063e+06</td>\n",
       "      <td>7.031828e+06</td>\n",
       "    </tr>\n",
       "    <tr>\n",
       "      <th>2022-01-06</th>\n",
       "      <td>1.179794e+06</td>\n",
       "      <td>5.746506e+06</td>\n",
       "      <td>6.926300e+06</td>\n",
       "    </tr>\n",
       "    <tr>\n",
       "      <th>2022-01-07</th>\n",
       "      <td>1.174735e+06</td>\n",
       "      <td>5.752186e+06</td>\n",
       "      <td>6.926921e+06</td>\n",
       "    </tr>\n",
       "    <tr>\n",
       "      <th>2022-01-10</th>\n",
       "      <td>1.167017e+06</td>\n",
       "      <td>5.752854e+06</td>\n",
       "      <td>6.919871e+06</td>\n",
       "    </tr>\n",
       "    <tr>\n",
       "      <th>2022-01-11</th>\n",
       "      <td>1.195028e+06</td>\n",
       "      <td>5.849409e+06</td>\n",
       "      <td>7.044437e+06</td>\n",
       "    </tr>\n",
       "  </tbody>\n",
       "</table>\n",
       "</div>"
      ],
      "text/plain": [
       "            amazon_daily_sum  apple_daily_sum     total_sum\n",
       "Date                                                       \n",
       "2022-01-05      1.187765e+06     5.844063e+06  7.031828e+06\n",
       "2022-01-06      1.179794e+06     5.746506e+06  6.926300e+06\n",
       "2022-01-07      1.174735e+06     5.752186e+06  6.926921e+06\n",
       "2022-01-10      1.167017e+06     5.752854e+06  6.919871e+06\n",
       "2022-01-11      1.195028e+06     5.849409e+06  7.044437e+06"
      ]
     },
     "execution_count": 30,
     "metadata": {},
     "output_type": "execute_result"
    }
   ],
   "source": [
    "## visulazing data for our portfoilo(new dataframe), ( by adding daily_sum of both stocks)\n",
    "daily_sum = [amazon['daily_sum'], apple['daily_sum']]\n",
    "portfolio = pd.concat(daily_sum, axis=1)\n",
    "portfolio.columns = ['amazon_daily_sum', 'apple_daily_sum']\n",
    "portfolio['total_sum']  = amazon['daily_sum']+ apple['daily_sum']\n",
    "portfolio.tail()\n",
    "\n",
    "## here we can see amazon went down a bit but peroformed well thats why diversification of our portfolio is very important."
   ]
  },
  {
   "cell_type": "code",
   "execution_count": 37,
   "id": "99597b97",
   "metadata": {
    "scrolled": true
   },
   "outputs": [
    {
     "data": {
      "image/png": "[encoded data removed]",
      "text/plain": [
       "<Figure size 576x432 with 1 Axes>"
      ]
     },
     "metadata": {},
     "output_type": "display_data"
    }
   ],
   "source": [
    "## now we will visualize plot data to see how our portfolio performed.\n",
    "plt.style.use('fivethirtyeight')\n",
    "portfolio['total_sum'].plot(figsize=(8,6), label = 'Portfolio Equity=7000000')\n",
    "plt.legend()\n",
    "plt.ylabel('Portfolio')\n",
    "plt.show()"
   ]
  },
  {
   "attachments": {},
   "cell_type": "markdown",
   "id": "877428a4",
   "metadata": {},
   "source": [
    "Now we will calculate sharpe ratio : ( average return - risk free rate) / volatility risk,\n",
    "for that we need to know total daily return rate.\n"
   ]
  },
  {
   "cell_type": "code",
   "execution_count": 14,
   "id": "da5b2896",
   "metadata": {},
   "outputs": [
    {
     "data": {
      "text/html": [
       "<div>\n",
       "<style scoped>\n",
       "    .dataframe tbody tr th:only-of-type {\n",
       "        vertical-align: middle;\n",
       "    }\n",
       "\n",
       "    .dataframe tbody tr th {\n",
       "        vertical-align: top;\n",
       "    }\n",
       "\n",
       "    .dataframe thead th {\n",
       "        text-align: right;\n",
       "    }\n",
       "</style>\n",
       "<table border=\"1\" class=\"dataframe\">\n",
       "  <thead>\n",
       "    <tr style=\"text-align: right;\">\n",
       "      <th></th>\n",
       "      <th>amazon_daily_sum</th>\n",
       "      <th>apple_daily_sum</th>\n",
       "      <th>total_sum</th>\n",
       "      <th>total return</th>\n",
       "    </tr>\n",
       "    <tr>\n",
       "      <th>Date</th>\n",
       "      <th></th>\n",
       "      <th></th>\n",
       "      <th></th>\n",
       "      <th></th>\n",
       "    </tr>\n",
       "  </thead>\n",
       "  <tbody>\n",
       "    <tr>\n",
       "      <th>2020-01-10</th>\n",
       "      <td>25000.000000</td>\n",
       "      <td>25000.000000</td>\n",
       "      <td>50000.000000</td>\n",
       "      <td>NaN</td>\n",
       "    </tr>\n",
       "    <tr>\n",
       "      <th>2020-01-13</th>\n",
       "      <td>25108.063235</td>\n",
       "      <td>25534.108845</td>\n",
       "      <td>50642.172080</td>\n",
       "      <td>0.012843</td>\n",
       "    </tr>\n",
       "    <tr>\n",
       "      <th>2020-01-14</th>\n",
       "      <td>24817.858114</td>\n",
       "      <td>25189.312833</td>\n",
       "      <td>50007.170948</td>\n",
       "      <td>-0.012539</td>\n",
       "    </tr>\n",
       "    <tr>\n",
       "      <th>2020-01-15</th>\n",
       "      <td>24719.354512</td>\n",
       "      <td>25081.364324</td>\n",
       "      <td>49800.718836</td>\n",
       "      <td>-0.004128</td>\n",
       "    </tr>\n",
       "    <tr>\n",
       "      <th>2020-01-16</th>\n",
       "      <td>24930.700356</td>\n",
       "      <td>25395.546731</td>\n",
       "      <td>50326.247087</td>\n",
       "      <td>0.010553</td>\n",
       "    </tr>\n",
       "  </tbody>\n",
       "</table>\n",
       "</div>"
      ],
      "text/plain": [
       "            amazon_daily_sum  apple_daily_sum     total_sum  total return\n",
       "Date                                                                     \n",
       "2020-01-10      25000.000000     25000.000000  50000.000000           NaN\n",
       "2020-01-13      25108.063235     25534.108845  50642.172080      0.012843\n",
       "2020-01-14      24817.858114     25189.312833  50007.170948     -0.012539\n",
       "2020-01-15      24719.354512     25081.364324  49800.718836     -0.004128\n",
       "2020-01-16      24930.700356     25395.546731  50326.247087      0.010553"
      ]
     },
     "execution_count": 14,
     "metadata": {},
     "output_type": "execute_result"
    }
   ],
   "source": [
    "portfolio['total return'] = portfolio['total_sum'].pct_change(1)\n",
    "portfolio.head()"
   ]
  },
  {
   "cell_type": "code",
   "execution_count": 17,
   "id": "a7e9c021",
   "metadata": {},
   "outputs": [
    {
     "name": "stdout",
     "output_type": "stream",
     "text": [
      "0.07978321245637708\n"
     ]
    }
   ],
   "source": [
    "## using sharpe ratio formula \n",
    "Sharpe_Ratio = portfolio['total return'].mean() / portfolio['total return'].std()\n",
    "print(Sharpe_Ratio)\n",
    "## this is daily Sharpe ratio , for annually sharpe ratio we need to multiply it with total trading days."
   ]
  },
  {
   "cell_type": "code",
   "execution_count": null,
   "id": "f4d1bdd3",
   "metadata": {},
   "outputs": [],
   "source": []
  },
  {
   "cell_type": "code",
   "execution_count": null,
   "id": "10240fce",
   "metadata": {},
   "outputs": [],
   "source": []
  }
 ],
 "metadata": {
  "kernelspec": {
   "display_name": "Python 3",
   "language": "python",
   "name": "python3"
  },
  "language_info": {
   "codemirror_mode": {
    "name": "ipython",
    "version": 3
   },
   "file_extension": ".py",
   "mimetype": "text/x-python",
   "name": "python",
   "nbconvert_exporter": "python",
   "pygments_lexer": "ipython3",
   "version": "3.8.8"
  }
 },
 "nbformat": 4,
 "nbformat_minor": 5
}
